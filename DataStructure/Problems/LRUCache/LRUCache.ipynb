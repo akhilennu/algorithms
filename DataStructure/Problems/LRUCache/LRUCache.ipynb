{
 "cells": [
  {
   "cell_type": "markdown",
   "id": "5874e870",
   "metadata": {},
   "source": [
    "https://leetcode.com/problems/lru-cache/"
   ]
  },
  {
   "cell_type": "code",
   "execution_count": 1,
   "id": "020e94d3",
   "metadata": {},
   "outputs": [],
   "source": [
    "#Double Linked List\n",
    "class Node:\n",
    "    def __init__(self, next=None, prev=None, key=None, val=None):\n",
    "        self.next = next\n",
    "        self.prev = prev\n",
    "        self.key = key\n",
    "        self.val = val\n",
    "\n",
    "    #Always display from head so that the data is displayed from head till tail\n",
    "    def displayNodes(self):\n",
    "        originalNode = self\n",
    "        node = self\n",
    "        print(end='-')\n",
    "        print('[', originalNode.key, '|', originalNode.val, ']', end='-')\n",
    "        while(node.next != None and node.next != originalNode):\n",
    "            node = node.next\n",
    "            print('[', node.key, '|', node.val, ']', end='-')\n",
    "        print()"
   ]
  },
  {
   "cell_type": "code",
   "execution_count": 2,
   "id": "eca3e777",
   "metadata": {},
   "outputs": [],
   "source": [
    "class LRUCache:\n",
    "    def __init__(self, capacity):\n",
    "        self.capacity = capacity\n",
    "        self.dic = dict()\n",
    "        self.head = Node(key=0, val=0)\n",
    "        self.tail = Node(key=0, val=0)\n",
    "        self.head.next = self.tail\n",
    "        self.tail.prev = self.head\n",
    "\n",
    "    def get(self, key):\n",
    "        if key in self.dic:\n",
    "            n = self.dic[key]\n",
    "            self._remove(n)\n",
    "            self._add(n)\n",
    "            return n.val\n",
    "        return -1\n",
    "\n",
    "    def set(self, key, value):\n",
    "        if key in self.dic:\n",
    "            self._remove(self.dic[key])\n",
    "        n = Node(key=key, val=value)\n",
    "        self._add(n)\n",
    "        self.dic[key] = n\n",
    "        if len(self.dic) > self.capacity:\n",
    "            n = self.head.next\n",
    "            self._remove(n)\n",
    "            del self.dic[n.key]\n",
    "\n",
    "    def _remove(self, node):\n",
    "        p = node.prev\n",
    "        n = node.next\n",
    "        p.next = n\n",
    "        n.prev = p\n",
    "\n",
    "    def _add(self, node):\n",
    "        p = self.tail.prev\n",
    "        p.next = node\n",
    "        self.tail.prev = node\n",
    "        node.prev = p\n",
    "        node.next = self.tail"
   ]
  },
  {
   "cell_type": "code",
   "execution_count": 3,
   "id": "f892ef1b",
   "metadata": {},
   "outputs": [],
   "source": [
    "obj = LRUCache(3)"
   ]
  },
  {
   "cell_type": "code",
   "execution_count": 4,
   "id": "7ffbebbc",
   "metadata": {},
   "outputs": [
    {
     "name": "stdout",
     "output_type": "stream",
     "text": [
      "-[ 0 | 0 ]-[ 4 | 6 ]-[ 0 | 0 ]-\n",
      "-[ 0 | 0 ]-[ 4 | 6 ]-[ 7 | 6 ]-[ 0 | 0 ]-\n",
      "-[ 0 | 0 ]-[ 4 | 6 ]-[ 7 | 6 ]-[ 9 | 6 ]-[ 0 | 0 ]-\n"
     ]
    }
   ],
   "source": [
    "obj.set(4, 6)\n",
    "obj.head.displayNodes()\n",
    "obj.set(7, 6)\n",
    "obj.head.displayNodes()\n",
    "obj.set(9, 6)\n",
    "obj.head.displayNodes()"
   ]
  },
  {
   "cell_type": "code",
   "execution_count": 5,
   "id": "6c799c06",
   "metadata": {},
   "outputs": [
    {
     "name": "stdout",
     "output_type": "stream",
     "text": [
      "-[ 0 | 0 ]-[ 7 | 6 ]-[ 9 | 6 ]-[ 3 | 6 ]-[ 0 | 0 ]-\n"
     ]
    }
   ],
   "source": [
    "obj.set(3, 6)\n",
    "obj.head.displayNodes()"
   ]
  },
  {
   "cell_type": "code",
   "execution_count": 6,
   "id": "3aa174ed",
   "metadata": {},
   "outputs": [
    {
     "name": "stdout",
     "output_type": "stream",
     "text": [
      "-[ 0 | 0 ]-[ 7 | 6 ]-[ 9 | 6 ]-[ 3 | 7 ]-[ 0 | 0 ]-\n"
     ]
    }
   ],
   "source": [
    "obj.set(3, 7)\n",
    "obj.head.displayNodes()"
   ]
  },
  {
   "cell_type": "code",
   "execution_count": 7,
   "id": "a80ed4a1",
   "metadata": {},
   "outputs": [
    {
     "name": "stdout",
     "output_type": "stream",
     "text": [
      "-[ 0 | 0 ]-[ 9 | 6 ]-[ 3 | 7 ]-[ 7 | 6 ]-[ 0 | 0 ]-\n",
      "-[ 0 | 0 ]-[ 9 | 6 ]-[ 7 | 6 ]-[ 3 | 7 ]-[ 0 | 0 ]-\n"
     ]
    }
   ],
   "source": [
    "obj.get(7)\n",
    "obj.head.displayNodes()\n",
    "obj.get(3)\n",
    "obj.head.displayNodes()"
   ]
  }
 ],
 "metadata": {
  "kernelspec": {
   "display_name": "Python 3",
   "language": "python",
   "name": "python3"
  },
  "language_info": {
   "codemirror_mode": {
    "name": "ipython",
    "version": 3
   },
   "file_extension": ".py",
   "mimetype": "text/x-python",
   "name": "python",
   "nbconvert_exporter": "python",
   "pygments_lexer": "ipython3",
   "version": "3.8.8"
  }
 },
 "nbformat": 4,
 "nbformat_minor": 5
}
